{
  "cells": [
    {
      "cell_type": "code",
      "execution_count": null,
      "metadata": {
        "colab": {
          "base_uri": "https://localhost:8080/"
        },
        "id": "nAdz-2XoH17t",
        "outputId": "7f83bddf-3cdb-4f2d-f2a6-a626a6e44533"
      },
      "outputs": [
        {
          "name": "stdout",
          "output_type": "stream",
          "text": [
            "\u001b[K     |████████████████████████████████| 5.1 MB 5.2 MB/s \n",
            "\u001b[K     |████████████████████████████████| 84 kB 1.3 MB/s \n",
            "\u001b[K     |████████████████████████████████| 2.0 MB 36.2 MB/s \n",
            "\u001b[K     |████████████████████████████████| 212 kB 48.6 MB/s \n",
            "\u001b[K     |████████████████████████████████| 256 kB 38.9 MB/s \n",
            "\u001b[K     |████████████████████████████████| 140 kB 25.1 MB/s \n",
            "\u001b[K     |████████████████████████████████| 53 kB 1.5 MB/s \n",
            "\u001b[K     |████████████████████████████████| 54 kB 2.6 MB/s \n",
            "\u001b[K     |████████████████████████████████| 1.1 MB 46.8 MB/s \n",
            "\u001b[K     |████████████████████████████████| 271 kB 42.3 MB/s \n",
            "\u001b[K     |████████████████████████████████| 94 kB 3.0 MB/s \n",
            "\u001b[K     |████████████████████████████████| 144 kB 54.2 MB/s \n",
            "\u001b[K     |████████████████████████████████| 63 kB 1.7 MB/s \n",
            "\u001b[K     |████████████████████████████████| 80 kB 7.6 MB/s \n",
            "\u001b[K     |████████████████████████████████| 43 kB 520 kB/s \n",
            "\u001b[K     |████████████████████████████████| 62 kB 796 kB/s \n",
            "\u001b[K     |████████████████████████████████| 856 kB 39.6 MB/s \n",
            "\u001b[K     |████████████████████████████████| 4.0 MB 40.8 MB/s \n",
            "\u001b[K     |████████████████████████████████| 58 kB 5.1 MB/s \n",
            "\u001b[?25h  Building wheel for ffmpy (setup.py) ... \u001b[?25l\u001b[?25hdone\n",
            "  Building wheel for python-multipart (setup.py) ... \u001b[?25l\u001b[?25hdone\n"
          ]
        }
      ],
      "source": [
        "!pip install -q gradio\n",
        "!pip install -U -q PyDrive"
      ]
    },
    {
      "cell_type": "code",
      "execution_count": null,
      "metadata": {
        "id": "lizNtV5vGFI9"
      },
      "outputs": [],
      "source": [
        "import gradio as gr\n",
        "from pydrive.drive import GoogleDrive\n",
        "from pydrive.auth import GoogleAuth\n",
        "from pydrive.drive import GoogleDrive\n",
        "from google.colab import auth\n",
        "from oauth2client.client import GoogleCredentials\n",
        "from PIL import Image, ImageOps"
      ]
    },
    {
      "cell_type": "code",
      "execution_count": null,
      "metadata": {
        "id": "3avesyCIfhY2"
      },
      "outputs": [],
      "source": [
        "# 1. Authenticate and create the PyDrive client.\n",
        "auth.authenticate_user()\n",
        "gauth = GoogleAuth()\n",
        "gauth.credentials = GoogleCredentials.get_application_default()\n",
        "\n",
        "# Create GoogleDrive instance with authenticated GoogleAuth instance.\n",
        "drive = GoogleDrive(gauth)"
      ]
    },
    {
      "cell_type": "code",
      "execution_count": null,
      "metadata": {
        "id": "qAlO0qxneBp4"
      },
      "outputs": [],
      "source": [
        "def uploadImagem(tipo, objeto_cozinha):\n",
        "  if tipo == \"Copo\":\n",
        "    caminho = \"1Lkp9NKJ2ijkT8Om66GjSk_XhCiwwWcGC\"\n",
        "  elif tipo == \"Prato\":\n",
        "    caminho = \"15pYMp220d-MeBGHLTb2Z2yobcknkJojx\"\n",
        "  elif tipo == \"Garfo\":\n",
        "    caminho = \"1iuL7Wm3hiUkR5QzmVgZ1dBfvQYzoo7lO\"\n",
        "  elif tipo == \"Colher\":\n",
        "    caminho = \"1C5HvMXZZEJWur4JcQynzgOjS6O1N9hIi\"\n",
        "  elif tipo == \"Faca\":\n",
        "    caminho = \"1xtcRb_AMj4ePyx6adt5iNw_gTWSJwQdH\"\n",
        "  # Create GoogleDriveFile instance with title EX: 'Hello.txt'.\n",
        "  file1 = drive.CreateFile({'parents': [{'id': '%s'%caminho}]})\n",
        "  file_name = objeto_cozinha\n",
        "  file1.SetContentFile(file_name)\n",
        "  file1.Upload() # Upload the file.\n",
        "  print('title: %s, id: %s' % (file1['title'], file1['id']))\n",
        "  # title: Hello.txt, id: {{FILE_ID}}\n",
        "\n",
        "def uploadImagem2(tipo, objeto_cozinha):\n",
        "  if tipo == \"Copo\":\n",
        "    caminho = \"1wUFRCIP31rdepx5k2qYjOXqrRjJocqFd\"\n",
        "  elif tipo == \"Prato\":\n",
        "    caminho = \"1XAxn49NzP0Q1X09IFfF9VR2os4Htv8xs\"\n",
        "  elif tipo == \"Garfo\":\n",
        "    caminho = \"1q8IC5WFpF6B9zELaBaKL6acYF9i90WCE\"\n",
        "  elif tipo == \"Colher\":\n",
        "    caminho = \"1o_HDcvXShVmiNY76JKM6W5j9Np8kkb6V\"\n",
        "  elif tipo == \"Faca\":\n",
        "    caminho = \"1zZX1JLEh_mIAB0zLMf8YdWAxOwpc04ab\"\n",
        "  # Create GoogleDriveFile instance with title EX: 'Hello.txt'.\n",
        "  file1 = drive.CreateFile({'parents': [{'id': '%s'%caminho}]})\n",
        "  file_name = objeto_cozinha\n",
        "  file1.SetContentFile(file_name)\n",
        "  file1.Upload() # Upload the file.\n",
        "  print('title: %s, id: %s' % (file1['title'], file1['id']))\n",
        "  # title: Hello.txt, id: {{FILE_ID}}"
      ]
    },
    {
      "cell_type": "code",
      "execution_count": null,
      "metadata": {
        "id": "dgBCZm-9g8Fo"
      },
      "outputs": [],
      "source": [
        "def renomeia(tipo, imagem):\n",
        "  if tipo == \"Copo\":\n",
        "    nome = \"copo\"\n",
        "    caminho = \"1Lkp9NKJ2ijkT8Om66GjSk_XhCiwwWcGC\"\n",
        "  elif tipo == \"Prato\":\n",
        "    nome = \"prato\"\n",
        "    caminho = \"15pYMp220d-MeBGHLTb2Z2yobcknkJojx\"\n",
        "  elif tipo == \"Garfo\":\n",
        "    nome = \"garfo\"\n",
        "    caminho = \"1iuL7Wm3hiUkR5QzmVgZ1dBfvQYzoo7lO\"\n",
        "  elif tipo == \"Colher\":\n",
        "    nome = \"colher\"\n",
        "    caminho = \"1C5HvMXZZEJWur4JcQynzgOjS6O1N9hIi\"\n",
        "  elif tipo == \"Faca\":\n",
        "    nome = \"faca\"\n",
        "    caminho = \"1xtcRb_AMj4ePyx6adt5iNw_gTWSJwQdH\"\n",
        "  i = 0\n",
        "  file_list = drive.ListFile({'q': \"'%s' in parents and trashed=false\"%(caminho)}).GetList()\n",
        "  if len(file_list) != 0:\n",
        "    for file1 in file_list:\n",
        "      if file1['title'] == \"%s_0.jpeg\"%nome:\n",
        "        i = i + 1\n",
        "        imagem = \"%s_%d.jpeg\"%(nome, i)\n",
        "      else:\n",
        "        i = i + 1\n",
        "        imagem = \"%s_%d.jpeg\"%(nome, i)\n",
        "    return imagem\n",
        "  else:\n",
        "    i = i + 1\n",
        "    return imagem\n",
        "\n",
        "def renomeia2(tipo, imagem):\n",
        "  if tipo == \"Copo\":\n",
        "    nome = \"copo\"\n",
        "    caminho = \"1wUFRCIP31rdepx5k2qYjOXqrRjJocqFd\"\n",
        "  elif tipo == \"Prato\":\n",
        "    nome = \"prato\"\n",
        "    caminho = \"1XAxn49NzP0Q1X09IFfF9VR2os4Htv8xs\"\n",
        "  elif tipo == \"Garfo\":\n",
        "    nome = \"garfo\"\n",
        "    caminho = \"1q8IC5WFpF6B9zELaBaKL6acYF9i90WCE\"\n",
        "  elif tipo == \"Colher\":\n",
        "    nome = \"colher\"\n",
        "    caminho = \"1o_HDcvXShVmiNY76JKM6W5j9Np8kkb6V\"\n",
        "  elif tipo == \"Faca\":\n",
        "    nome = \"faca\"\n",
        "    caminho = \"1zZX1JLEh_mIAB0zLMf8YdWAxOwpc04ab\"\n",
        "  i = 0\n",
        "  file_list = drive.ListFile({'q': \"'%s' in parents and trashed=false\"%(caminho)}).GetList()\n",
        "  if len(file_list) != 0:\n",
        "    for file1 in file_list:\n",
        "      if file1['title'] == \"%s_resize_0.jpeg\"%nome:\n",
        "        i = i + 1\n",
        "        imagem = \"%s_resize_%d.jpeg\"%(nome, i)\n",
        "      else:\n",
        "        i = i + 1\n",
        "        imagem = \"%s_resize_%d.jpeg\"%(nome, i)\n",
        "    return imagem\n",
        "  else:\n",
        "    i = i + 1\n",
        "    return imagem\n"
      ]
    },
    {
      "cell_type": "code",
      "execution_count": null,
      "metadata": {
        "id": "4YNkHE-3YN5G"
      },
      "outputs": [],
      "source": [
        "def resizeImg(imagem):\n",
        "  im = Image.open(imagem)\n",
        "  #image size\n",
        "  size=(224,224)\n",
        "  #resize image\n",
        "  out = im.resize(size)\n",
        "  #save resized image\n",
        "  out.save(imagem)\n",
        "  return out\n",
        "\n",
        "#https://github.com/gradio-app/gradio/blob/a487ec2d3ef454ce4247471a482cc328e637ea20/gradio/processing_utils.py#L96\n",
        "def resize_and_crop(img, size, crop_type=\"center\"):\n",
        "    \"\"\"\n",
        "    Resize and crop an image to fit the specified size.\n",
        "    args:\n",
        "        size: `(width, height)` tuple. Pass `None` for either width or height\n",
        "        to only crop and resize the other.\n",
        "        crop_type: can be 'top', 'middle' or 'bottom', depending on this\n",
        "            value, the image will cropped getting the 'top/left', 'middle' or\n",
        "            'bottom/right' of the image to fit the size.\n",
        "    raises:\n",
        "        ValueError: if an invalid `crop_type` is provided.\n",
        "    \"\"\"\n",
        "    if crop_type == \"top\":\n",
        "        center = (0, 0)\n",
        "    elif crop_type == \"center\":\n",
        "        center = (0.5, 0.5)\n",
        "    else:\n",
        "        raise ValueError\n",
        "\n",
        "    resize = list(size)\n",
        "    if size[0] is None:\n",
        "        resize[0] = img.size[0]\n",
        "    if size[1] is None:\n",
        "        resize[1] = img.size[1]\n",
        "    return ImageOps.fit(img, resize, centering=center)"
      ]
    },
    {
      "cell_type": "code",
      "execution_count": null,
      "metadata": {
        "colab": {
          "background_save": true,
          "base_uri": "https://localhost:8080/",
          "height": 628
        },
        "id": "4oXDnjLwemQS",
        "outputId": "733bd555-3030-4d4e-eec3-c94514d6ef07"
      },
      "outputs": [
        {
          "name": "stderr",
          "output_type": "stream",
          "text": [
            "/usr/local/lib/python3.7/dist-packages/gradio/deprecation.py:40: UserWarning: `optional` parameter is deprecated, and it has no effect\n",
            "  warnings.warn(value)\n"
          ]
        },
        {
          "name": "stdout",
          "output_type": "stream",
          "text": [
            "Colab notebook detected. This cell will run indefinitely so that you can see errors and logs. To turn off, set debug=False in launch().\n",
            "Running on public URL: https://55060.gradio.app\n",
            "\n",
            "This share link expires in 72 hours. For free permanent hosting, check out Spaces (https://huggingface.co/spaces)\n"
          ]
        },
        {
          "data": {
            "text/html": [
              "<div><iframe src=\"https://55060.gradio.app\" width=\"900\" height=\"500\" allow=\"autoplay; camera; microphone;\" frameborder=\"0\" allowfullscreen></iframe></div>"
            ],
            "text/plain": [
              "<IPython.core.display.HTML object>"
            ]
          },
          "metadata": {},
          "output_type": "display_data"
        }
      ],
      "source": [
        "image = gr.inputs.Image()\n",
        "\n",
        "def cozinha2(tipo, imagem):\n",
        "  im = Image.fromarray(imagem)\n",
        "\n",
        "  if tipo == \"Copo\":\n",
        "    novo_nome = renomeia2(tipo, 'copo_resize_0.jpeg')\n",
        "    im.save(novo_nome)\n",
        "    resizeImg(novo_nome)\n",
        "    uploadImagem2(tipo, novo_nome)\n",
        "  elif tipo == \"Prato\":\n",
        "    novo_nome = renomeia2(tipo, 'prato_resize_0.jpeg')\n",
        "    im.save(novo_nome)\n",
        "    resizeImg(novo_nome)\n",
        "    uploadImagem2(tipo, novo_nome)\n",
        "  elif tipo == \"Garfo\":\n",
        "    novo_nome = renomeia2(tipo, 'garfo_resize_0.jpeg')\n",
        "    im.save(novo_nome)\n",
        "    resizeImg(novo_nome)\n",
        "    uploadImagem2(tipo, novo_nome)\n",
        "  elif tipo == \"Colher\":\n",
        "    novo_nome = renomeia2(tipo, 'colher_resize_0.jpeg')\n",
        "    im.save(novo_nome)\n",
        "    resizeImg(novo_nome)\n",
        "    uploadImagem2(tipo, novo_nome)\n",
        "  elif tipo == \"Faca\":\n",
        "    novo_nome = renomeia2(tipo, 'faca_resize_0.jpeg')\n",
        "    im.save(novo_nome)\n",
        "    resizeImg(novo_nome)\n",
        "    uploadImagem2(tipo, novo_nome)\n",
        "\n",
        "def cozinha(tipo, imagem):\n",
        "  im = Image.fromarray(imagem)\n",
        "  im = resize_and_crop(im, (224,224))\n",
        "\n",
        "  if tipo == \"Copo\":\n",
        "    novo_nome = renomeia(tipo, 'copo_0.jpeg')\n",
        "    im.save(novo_nome)\n",
        "    uploadImagem(tipo, novo_nome)\n",
        "  elif tipo == \"Prato\":\n",
        "    novo_nome = renomeia(tipo, 'prato_0.jpeg')\n",
        "    im.save(novo_nome)\n",
        "    uploadImagem(tipo, novo_nome)\n",
        "  elif tipo == \"Garfo\":\n",
        "    novo_nome = renomeia(tipo, 'garfo_0.jpeg')\n",
        "    im.save(novo_nome)\n",
        "    uploadImagem(tipo, novo_nome)\n",
        "  elif tipo == \"Colher\":\n",
        "    novo_nome = renomeia(tipo, 'colher_0.jpeg')\n",
        "    im.save(novo_nome)\n",
        "    uploadImagem(tipo, novo_nome)\n",
        "  elif tipo == \"Faca\":\n",
        "    novo_nome = renomeia(tipo, 'faca_0.jpeg')\n",
        "    im.save(novo_nome)\n",
        "    uploadImagem(tipo, novo_nome)\n",
        "  else:\n",
        "    return \"ERRO: Selecione 1 tipo de objeto\"\n",
        "  cozinha2(tipo, imagem)\n",
        "  return \"Upload realizado com sucesso.\"\n",
        "\n",
        "\n",
        "iface = gr.Interface(fn=cozinha,\n",
        "                     inputs=[gr.inputs.Dropdown([\"\", \"Copo\", \"Prato\", \"Garfo\", \"Colher\", \"Faca\"]), image], outputs=\"text\")\n",
        "\n",
        "iface.launch(debug='true')"
      ]
    }
  ],
  "metadata": {
    "colab": {
      "provenance": []
    },
    "kernelspec": {
      "display_name": "Python 3",
      "name": "python3"
    },
    "language_info": {
      "name": "python"
    }
  },
  "nbformat": 4,
  "nbformat_minor": 0
}